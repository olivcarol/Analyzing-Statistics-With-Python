{
 "cells": [
  {
   "cell_type": "markdown",
   "id": "dc517d4c",
   "metadata": {},
   "source": [
    "## Project: Summarizing Automobile Evaluation Data\n",
    "\n",
    "This project is part of the course 'Master Statistics With Python' from Codecademy (www.codecamy.com)"
   ]
  },
  {
   "cell_type": "markdown",
   "id": "db49488a",
   "metadata": {},
   "source": [
    "In the following project we’ll analyze a sample from a popular open source dataset. This dataset contains information on the cost and physical attributes of several thousand cars. Originally, this dataset was used for to train a classification model that assigned an acceptability score/category to cars based on these attributes.\n",
    "\n",
    "The car evaluation dataset has been sourced from the UCI Machine Learning Repository and has been slightly modified for this project. Specifically, one additional field manufacturer_country has been simulated for illustrative purposes. You can read more about the details, features, and original uses of this dataset in research on the UCI data description page (https://archive.ics.uci.edu/ml/datasets/car+evaluation)"
   ]
  },
  {
   "cell_type": "code",
   "execution_count": 2,
   "id": "eb6a377c",
   "metadata": {},
   "outputs": [
    {
     "name": "stdout",
     "output_type": "stream",
     "text": [
      "  buying_cost maintenance_cost doors capacity luggage safety acceptability  \\\n",
      "0       vhigh              low     4        4   small    med         unacc   \n",
      "1       vhigh              med     3        4   small   high           acc   \n",
      "2         med             high     3        2     med   high         unacc   \n",
      "3         low              med     4     more     big    low         unacc   \n",
      "4         low             high     2     more     med   high           acc   \n",
      "\n",
      "  manufacturer_country  \n",
      "0                China  \n",
      "1               France  \n",
      "2        United States  \n",
      "3        United States  \n",
      "4          South Korea  \n"
     ]
    }
   ],
   "source": [
    "import pandas as pd\n",
    "import numpy as np\n",
    "\n",
    "car_eval = pd.read_csv('car_eval_dataset.csv')\n",
    "print(car_eval.head())"
   ]
  },
  {
   "cell_type": "markdown",
   "id": "466f0a1b",
   "metadata": {},
   "source": [
    "## Summarizing Manufacturing Country"
   ]
  },
  {
   "cell_type": "code",
   "execution_count": 3,
   "id": "d3f88b66",
   "metadata": {},
   "outputs": [
    {
     "name": "stdout",
     "output_type": "stream",
     "text": [
      "Japan            228\n",
      "Germany          218\n",
      "South Korea      159\n",
      "United States    138\n",
      "Italy             97\n",
      "France            87\n",
      "China             73\n",
      "Name: manufacturer_country, dtype: int64\n"
     ]
    }
   ],
   "source": [
    "#Creating a table of frequencies of all cars reviewed by manufacturer_country:\n",
    "\n",
    "table_of_frequencies = car_eval['manufacturer_country'].value_counts()\n",
    "print(table_of_frequencies)"
   ]
  },
  {
   "cell_type": "code",
   "execution_count": 4,
   "id": "3e1ae4ce",
   "metadata": {},
   "outputs": [
    {
     "name": "stdout",
     "output_type": "stream",
     "text": [
      "Japan            22.8\n",
      "Germany          21.8\n",
      "South Korea      15.9\n",
      "United States    13.8\n",
      "Italy             9.7\n",
      "France            8.7\n",
      "China             7.3\n",
      "Name: manufacturer_country, dtype: float64\n"
     ]
    }
   ],
   "source": [
    "#Calculating a table of proportions for countries that appear in manufacturer_country in the dataset:\n",
    "\n",
    "table_of_proportions = (car_eval['manufacturer_country'].value_counts(normalize = True))*100\n",
    "print(table_of_proportions)"
   ]
  },
  {
   "cell_type": "markdown",
   "id": "b0a57243",
   "metadata": {},
   "source": [
    "As we can see in the results above: 22.8% of cars were manufactured in Japan; 21.8% in Germany; 15.9% in South Korea; 13.8% in the Unites States; 9.7% in Italy; 8.7% in France; and 7.3% in China."
   ]
  },
  {
   "cell_type": "markdown",
   "id": "403919e4",
   "metadata": {},
   "source": [
    "## Summarizing Buying Costs"
   ]
  },
  {
   "cell_type": "code",
   "execution_count": 5,
   "id": "bd7ad72c",
   "metadata": {},
   "outputs": [
    {
     "name": "stdout",
     "output_type": "stream",
     "text": [
      "['vhigh', 'med', 'low', 'high']\n"
     ]
    }
   ],
   "source": [
    "#Analyzing the column buying_cost (which describes the cost of buying any car in the dataset),let's inpsect the unique values for this variable:\n",
    "\n",
    "print(list(car_eval['buying_cost'].unique()))"
   ]
  },
  {
   "cell_type": "markdown",
   "id": "6c5ac727",
   "metadata": {},
   "source": [
    "As we can see above, the column buying_cost is an ordinal categorical variable, which means it's possible to create an order associated with the values in the data and perform additional numeric operations on the variable."
   ]
  },
  {
   "cell_type": "code",
   "execution_count": 6,
   "id": "108b6855",
   "metadata": {},
   "outputs": [
    {
     "name": "stdout",
     "output_type": "stream",
     "text": [
      "med\n"
     ]
    }
   ],
   "source": [
    "#Ordering from lowest to highest:\n",
    "buying_cost_categories = ['low', 'med', 'high', 'vhigh']\n",
    "\n",
    "#Converting to type 'category':\n",
    "car_eval['buying_cost'] = pd.Categorical(car_eval['buying_cost'], buying_cost_categories, ordered = True)\n",
    "\n",
    "##Calculating the median:\n",
    "median_index = np.median(car_eval['buying_cost'].cat.codes)\n",
    "median_category = buying_cost_categories[int(median_index)]\n",
    "print(median_category)"
   ]
  },
  {
   "cell_type": "markdown",
   "id": "364887a1",
   "metadata": {},
   "source": [
    "As we can see, the cost of buying any car in this dataset that most appear is 'med'."
   ]
  },
  {
   "cell_type": "markdown",
   "id": "29962505",
   "metadata": {},
   "source": [
    "## Summarizing Luggage Capacity"
   ]
  },
  {
   "cell_type": "code",
   "execution_count": 9,
   "id": "ff247bcd",
   "metadata": {},
   "outputs": [
    {
     "name": "stdout",
     "output_type": "stream",
     "text": [
      "small    33.9\n",
      "med      33.3\n",
      "big      32.8\n",
      "Name: luggage, dtype: float64\n"
     ]
    }
   ],
   "source": [
    "#The column luggage is a categorical variable that records the luggage capacity for each reviewed car. Let's calculate a table of proportions for this variable:\n",
    "\n",
    "table_of_proportions_luggage = (car_eval['luggage'].value_counts(normalize = True))*100\n",
    "print(table_of_proportions_luggage)"
   ]
  },
  {
   "cell_type": "markdown",
   "id": "6034cdaf",
   "metadata": {},
   "source": [
    "33.9% of luggage capacity is small; 33.3% of luggage capacity is medium; 32.8% of luggae capacity is big."
   ]
  },
  {
   "cell_type": "code",
   "execution_count": 8,
   "id": "30facfda",
   "metadata": {},
   "outputs": [
    {
     "name": "stdout",
     "output_type": "stream",
     "text": [
      "small    0.339\n",
      "med      0.333\n",
      "big      0.328\n",
      "Name: luggage, dtype: float64\n"
     ]
    }
   ],
   "source": [
    "#Analyzing if there are any missing values in the luggage column:\n",
    "\n",
    "print(car_eval['luggage'].value_counts(dropna = False, normalize = True))"
   ]
  },
  {
   "cell_type": "markdown",
   "id": "3288fbf5",
   "metadata": {},
   "source": [
    "As the result was the same, we can assume there are no missing values."
   ]
  },
  {
   "cell_type": "markdown",
   "id": "2a16fd7e",
   "metadata": {},
   "source": [
    "## Summarizing Passenger Capacity"
   ]
  },
  {
   "cell_type": "code",
   "execution_count": 10,
   "id": "4d6f0eb9",
   "metadata": {},
   "outputs": [
    {
     "name": "stdout",
     "output_type": "stream",
     "text": [
      "246\n"
     ]
    }
   ],
   "source": [
    "#The column doors is a categorical variable that records the count of doors for each reviewed car.\n",
    "#Let's find the count of cars that have 5 or more doors:\n",
    "\n",
    "frequency = np.sum(car_eval.doors == '5more')\n",
    "print(frequency)"
   ]
  },
  {
   "cell_type": "markdown",
   "id": "5cea6d15",
   "metadata": {},
   "source": [
    "There are 246 cars in this dataset that have 5 or more doors."
   ]
  },
  {
   "cell_type": "code",
   "execution_count": 11,
   "id": "c830130c",
   "metadata": {},
   "outputs": [
    {
     "name": "stdout",
     "output_type": "stream",
     "text": [
      "0.246\n"
     ]
    }
   ],
   "source": [
    "#Proportion of cars that have 5+ doors:\n",
    "proportion = (car_eval.doors == '5more').mean()\n",
    "print(proportion)"
   ]
  },
  {
   "cell_type": "markdown",
   "id": "5345660c",
   "metadata": {},
   "source": [
    "24.6% of all cars in this dataset have 5 or more doors."
   ]
  },
  {
   "cell_type": "code",
   "execution_count": null,
   "id": "471c02e1",
   "metadata": {},
   "outputs": [],
   "source": []
  }
 ],
 "metadata": {
  "kernelspec": {
   "display_name": "Python 3",
   "language": "python",
   "name": "python3"
  },
  "language_info": {
   "codemirror_mode": {
    "name": "ipython",
    "version": 3
   },
   "file_extension": ".py",
   "mimetype": "text/x-python",
   "name": "python",
   "nbconvert_exporter": "python",
   "pygments_lexer": "ipython3",
   "version": "3.8.3"
  }
 },
 "nbformat": 4,
 "nbformat_minor": 5
}
