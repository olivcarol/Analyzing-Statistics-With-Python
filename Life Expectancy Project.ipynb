{
 "cells": [
  {
   "cell_type": "markdown",
   "id": "5c440ebb",
   "metadata": {},
   "source": [
    "# Life Expectancy By Country"
   ]
  },
  {
   "cell_type": "markdown",
   "id": "bc9d0e55",
   "metadata": {},
   "source": [
    "Over the course of the past few centuries, technological and medical advancements have helped increase the life expectancy of humans. However, as of now, the average life expectancy of humans varies depending on what country you live in.\n",
    "\n",
    "In this project, we will investigate a dataset containing information about the average life expectancy in 158 different countries. We will specifically look at how a country’s economic success might impact the life expectancy in that area."
   ]
  },
  {
   "cell_type": "code",
   "execution_count": 1,
   "id": "3c62b594",
   "metadata": {},
   "outputs": [
    {
     "name": "stdout",
     "output_type": "stream",
     "text": [
      "               Country  Life Expectancy          GDP\n",
      "0          Afghanistan         58.19375   340.015425\n",
      "1              Albania         75.15625  2119.726679\n",
      "2              Algeria         73.61875  2847.853392\n",
      "3               Angola         49.01875  1975.143045\n",
      "4  Antigua and Barbuda         75.05625  9759.305728\n"
     ]
    }
   ],
   "source": [
    "#Importing the dataset and the libraries:\n",
    "\n",
    "import numpy as np\n",
    "import pandas as pd\n",
    "import matplotlib.pyplot as plt\n",
    "\n",
    "data = pd.read_csv(\"country_data.csv\")\n",
    "print(data.head())"
   ]
  },
  {
   "cell_type": "code",
   "execution_count": 2,
   "id": "3b7e044a",
   "metadata": {},
   "outputs": [
    {
     "name": "stdout",
     "output_type": "stream",
     "text": [
      "[62.325     72.525     75.4421875]\n"
     ]
    }
   ],
   "source": [
    "#Isolating the life expectancy column to analyze it:\n",
    "life_expectancy = data[\"Life Expectancy\"]\n",
    "\n",
    "#Finding the quartiles of life expectancy to get a sense of the spread of the data:\n",
    "life_expectancy_quartiles = np.quantile(life_expectancy, [0.25, 0.5, 0.75])\n",
    "print(life_expectancy_quartiles)"
   ]
  },
  {
   "cell_type": "markdown",
   "id": "cd08ee3c",
   "metadata": {},
   "source": [
    "By looking at the results of the quartiles above, we can see that a quarter of the data is between 72.5 years and 75.4 years. Now, plotting an histogram to check:"
   ]
  },
  {
   "cell_type": "code",
   "execution_count": 4,
   "id": "fabf04fa",
   "metadata": {},
   "outputs": [
    {
     "data": {
      "image/png": "[encoded data removed]",
      "text/plain": [
       "<Figure size 432x288 with 1 Axes>"
      ]
     },
     "metadata": {
      "needs_background": "light"
     },
     "output_type": "display_data"
    }
   ],
   "source": [
    "plt.hist(life_expectancy, edgecolor = 'black')\n",
    "plt.title(\"Life Expectancy\", fontsize = 16)\n",
    "plt.xlabel(\"Age\", fontsize = 12)\n",
    "plt.ylabel(\"Count\", fontsize = 12)\n",
    "\n",
    "plt.show()"
   ]
  },
  {
   "cell_type": "code",
   "execution_count": 5,
   "id": "91ef36a3",
   "metadata": {},
   "outputs": [
    {
     "name": "stdout",
     "output_type": "stream",
     "text": [
      "2938.0781152500003\n"
     ]
    }
   ],
   "source": [
    "#Now, splitting the data by GDP to see if life expectancy is affected by this value.\n",
    "#First, I will isolate the GDP column:\n",
    "gdp = data[\"GDP\"]\n",
    "\n",
    "#Finding the median:\n",
    "median_gdp = np.median(gdp)\n",
    "print(median_gdp)"
   ]
  },
  {
   "cell_type": "code",
   "execution_count": 6,
   "id": "dd65508f",
   "metadata": {},
   "outputs": [
    {
     "name": "stdout",
     "output_type": "stream",
     "text": [
      "         Country  Life Expectancy          GDP\n",
      "0    Afghanistan         58.19375   340.015425\n",
      "1        Albania         75.15625  2119.726679\n",
      "2        Algeria         73.61875  2847.853392\n",
      "3         Angola         49.01875  1975.143045\n",
      "6        Armenia         73.40000  1999.986318\n",
      "..           ...              ...          ...\n",
      "151      Ukraine         69.93750  1577.293329\n",
      "154   Uzbekistan         68.03125   651.092359\n",
      "155      Vanuatu         71.38750  2000.245518\n",
      "156       Zambia         53.90625   811.811841\n",
      "157     Zimbabwe         50.48750   410.980194\n",
      "\n",
      "[79 rows x 3 columns]\n",
      "                  Country  Life Expectancy           GDP\n",
      "4     Antigua and Barbuda         75.05625   9759.305728\n",
      "5               Argentina         75.15625   6998.575103\n",
      "7               Australia         81.81250  34637.565047\n",
      "8                 Austria         81.48125  33827.476309\n",
      "9              Azerbaijan         70.73125   3302.947807\n",
      "..                    ...              ...           ...\n",
      "146   Trinidad and Tobago         71.06875   7741.748090\n",
      "147               Tunisia         74.35625   3044.081488\n",
      "148                Turkey         73.91250   3983.917722\n",
      "152  United Arab Emirates         75.70000  22110.366986\n",
      "153               Uruguay         76.07500   7192.584875\n",
      "\n",
      "[79 rows x 3 columns]\n"
     ]
    }
   ],
   "source": [
    "#GDP less than or equal to the median & GDP higher than the median:\n",
    "\n",
    "low_gdp = data[data['GDP'] <= median_gdp]\n",
    "high_gdp = data[data[\"GDP\"] > median_gdp]\n",
    "print(low_gdp)\n",
    "print(high_gdp)"
   ]
  },
  {
   "cell_type": "code",
   "execution_count": 7,
   "id": "778fb158",
   "metadata": {},
   "outputs": [
    {
     "name": "stdout",
     "output_type": "stream",
     "text": [
      "[56.3375  64.34375 71.7375 ]\n"
     ]
    }
   ],
   "source": [
    "#Finding the quartiles of \"Life Expectancy\" column of low_gdp:\n",
    "\n",
    "low_gdp_quartiles = np.quantile(low_gdp[\"Life Expectancy\"], [0.25, 0.5, 0.75])\n",
    "print(low_gdp_quartiles)"
   ]
  },
  {
   "cell_type": "code",
   "execution_count": 8,
   "id": "07b03ce9",
   "metadata": {},
   "outputs": [
    {
     "name": "stdout",
     "output_type": "stream",
     "text": [
      "[72.965625 75.15625  80.521875]\n"
     ]
    }
   ],
   "source": [
    "#Finding the quartiles of \"Life Expectancy\" column of high_gdp:\n",
    "\n",
    "high_gdp_quartiles = np.quantile(high_gdp[\"Life Expectancy\"], [0.25, 0.5, 0.75])\n",
    "print(high_gdp_quartiles)"
   ]
  },
  {
   "cell_type": "markdown",
   "id": "24c5d958",
   "metadata": {},
   "source": [
    "# Histogram and Conclusions:"
   ]
  },
  {
   "cell_type": "code",
   "execution_count": 9,
   "id": "fb96d2e6",
   "metadata": {},
   "outputs": [
    {
     "data": {
      "image/png": "[encoded data removed]",
      "text/plain": [
       "<Figure size 432x288 with 1 Axes>"
      ]
     },
     "metadata": {
      "needs_background": "light"
     },
     "output_type": "display_data"
    }
   ],
   "source": [
    "plt.hist(high_gdp[\"Life Expectancy\"], alpha = 0.5, label = \"High GDP\")\n",
    "plt.hist(low_gdp[\"Life Expectancy\"], alpha = 0.5, label = \"Low GDP\")\n",
    "plt.legend()\n",
    "\n",
    "plt.show()"
   ]
  },
  {
   "cell_type": "markdown",
   "id": "7c44add1",
   "metadata": {},
   "source": [
    "We can now clearly see the impact that GDP has on life expectancy: the higher the GDP, the higher the life expectancy.\n",
    "Let's consider a country that has a life expectancy of 70 years. In the 'high GDP' dataset, 70 years is below the first quartile. On the other hand, 70 years falls in the third quartile in the 'low GDP' dataset."
   ]
  }
 ],
 "metadata": {
  "kernelspec": {
   "display_name": "Python 3",
   "language": "python",
   "name": "python3"
  },
  "language_info": {
   "codemirror_mode": {
    "name": "ipython",
    "version": 3
   },
   "file_extension": ".py",
   "mimetype": "text/x-python",
   "name": "python",
   "nbconvert_exporter": "python",
   "pygments_lexer": "ipython3",
   "version": "3.8.3"
  }
 },
 "nbformat": 4,
 "nbformat_minor": 5
}
